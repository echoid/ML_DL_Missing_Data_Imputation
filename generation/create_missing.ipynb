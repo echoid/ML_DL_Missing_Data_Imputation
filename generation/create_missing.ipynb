{
 "cells": [
  {
   "cell_type": "code",
   "execution_count": 2,
   "metadata": {},
   "outputs": [],
   "source": [
    "import sys\n",
    "sys.path.append(\"..\")\n",
    "import pickle\n",
    "import numpy as np\n",
    "import pandas as pd\n",
    "import sys\n",
    "from scipy import optimize\n",
    "from torch.utils.data import DataLoader, Dataset\n",
    "from data_loaders import *\n",
    "import missing_process.missing_method as missing_method\n",
    "from missing_process.block_rules import *\n",
    "import json\n",
    "import matplotlib.pyplot as plt\n"
   ]
  },
  {
   "cell_type": "code",
   "execution_count": 3,
   "metadata": {},
   "outputs": [],
   "source": [
    "real_datalist = [\"banknote\",\"concrete_compression\",\n",
    "            \"wine_quality_white\",\"wine_quality_red\",\n",
    "            \"california\",\"climate_model_crashes\",\n",
    "            \"connectionist_bench_sonar\",\"qsar_biodegradation\",\n",
    "            \"yeast\",\"yacht_hydrodynamics\"\n",
    "            ]\n",
    "\n",
    "syn_datalist = [\"syn1\"]\n",
    "\n",
    "\n",
    "missingtypelist = [\"mcar\",\"mar\",\"quantile\",\"diffuse\",\"logistic\"]"
   ]
  },
  {
   "cell_type": "code",
   "execution_count": null,
   "metadata": {},
   "outputs": [],
   "source": [
    "def create_mask(observed_values,missing_type = \"MCAR\",\n",
    "                  missing_para = None):\n",
    "\n",
    "    observed_masks = ~np.isnan(observed_values.astype(\"float32\"))\n",
    "    masks = observed_masks.copy().astype(\"float32\")\n",
    "\n",
    "\n",
    "    \"Need input origin dataset and parameters\"\n",
    "    if missing_type == \"mcar\":\n",
    "        masks = missing_method.MCAR(observed_values,missing_para)\n",
    "\n",
    "\n",
    "    elif missing_type == \"quantile\":\n",
    "        Xnan, Xz = missing_method.missing_by_range(observed_values, missing_para)\n",
    "        masks = np.array(~np.isnan(Xnan), dtype=np.float)\n",
    "\n",
    "\n",
    "    elif missing_type == \"logistic\":\n",
    "        masks = missing_method.MNAR_mask_logistic(observed_values, missing_para)\n",
    "\n",
    "\n",
    "    elif missing_type == \"diffuse\":\n",
    "        masks =  missing_method.diffuse_mnar_single(observed_values, missing_para[0],missing_para[1])\n",
    "\n",
    "    elif missing_type == \"mar\":\n",
    "\n",
    "        masks = missing_method.MAR_mask(observed_values,1,missing_para)\n",
    "\n",
    "        \n",
    "\n",
    "    observed_masks = masks.astype(int)\n",
    "    return observed_masks\n"
   ]
  },
  {
   "cell_type": "code",
   "execution_count": 7,
   "metadata": {},
   "outputs": [],
   "source": [
    "def create_missing(missingtypelist,datalist):\n",
    "    '''\n",
    "    Create Mask npy\n",
    "    Save missing \n",
    "    '''\n",
    "\n",
    "    for missingtype in missingtypelist:\n",
    "        if missingtype == \"logistic\":\n",
    "            missing_rule = load_json_file(\"missing_rate.json\")\n",
    "        elif missingtype == \"diffuse\":\n",
    "            missing_rule = load_json_file(\"diffuse_ratio.json\")\n",
    "        elif missingtype == \"quantile\":\n",
    "            missing_rule = load_json_file(\"quantile_full.json\")\n",
    "\n",
    "        elif missingtype == \"mcar\" or missingtype == \"mar\":\n",
    "            missing_rule = load_json_file(\"mcar.json\")\n",
    "\n",
    "\n",
    "        missing_rate_d = {}\n",
    "\n",
    "        for dataname in datalist:\n",
    "            directory_path = f\"../datasets/{dataname}\"    \n",
    "            norm_values = np.load(f'{directory_path}/{dataname}_norm.npy')\n",
    "\n",
    "            print(dataname)\n",
    "            missing_rate_d[dataname] = []\n",
    "\n",
    "                # Check if the directory exists\n",
    "            if not os.path.exists(f'{directory_path}/{missingtype}'):\n",
    "                os.makedirs(f'{directory_path}/{missingtype}')\n",
    "            else:\n",
    "                pass\n",
    "            \n",
    "            for rule_name in missing_rule:\n",
    "\n",
    "                rule = missing_rule[rule_name]\n",
    "                # try:\n",
    "                #     create_mask(norm_values,missingtype,rule)\n",
    "                # except:\n",
    "                #     print(dataname,missingtype)\n",
    "                \n",
    "                observed_masks = create_mask(norm_values,missingtype,rule)\n",
    "\n",
    "                np.save(f'{directory_path}/{missingtype}/{rule_name}.npy', observed_masks)\n",
    "\n"
   ]
  },
  {
   "cell_type": "code",
   "execution_count": null,
   "metadata": {},
   "outputs": [],
   "source": [
    "create_missing(missingtypelist,real_datalist)"
   ]
  }
 ],
 "metadata": {
  "kernelspec": {
   "display_name": "py3.10",
   "language": "python",
   "name": "python3"
  },
  "language_info": {
   "codemirror_mode": {
    "name": "ipython",
    "version": 3
   },
   "file_extension": ".py",
   "mimetype": "text/x-python",
   "name": "python",
   "nbconvert_exporter": "python",
   "pygments_lexer": "ipython3",
   "version": "3.10.13"
  }
 },
 "nbformat": 4,
 "nbformat_minor": 2
}
