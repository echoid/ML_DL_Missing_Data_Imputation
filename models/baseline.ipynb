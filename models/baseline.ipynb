{
 "cells": [
  {
   "cell_type": "code",
   "execution_count": null,
   "metadata": {},
   "outputs": [],
   "source": [
    "import numpy as np\n",
    "from sklearn.impute import SimpleImputer\n",
    "import sys\n",
    "sys.path.append(\"..\")\n",
    "import pickle\n",
    "import numpy as np\n",
    "import pandas as pd\n",
    "from tqdm import tqdm\n",
    "import sys\n",
    "import missing_process.missing_method as missing_method\n",
    "from missing_process.block_rules import *\n",
    "from utils import load_train_test,make_plot,RMSE,mask_check\n",
    "import json\n",
    "import matplotlib.pyplot as plt\n",
    "import seaborn as sns\n",
    "import os\n"
   ]
  },
  {
   "cell_type": "markdown",
   "metadata": {},
   "source": [
    "## Mean, 0 and Random"
   ]
  },
  {
   "cell_type": "code",
   "execution_count": null,
   "metadata": {},
   "outputs": [],
   "source": [
    "import numpy as np\n",
    "import pandas as pd\n",
    "\n",
    "class RandomImputer:\n",
    "    def __init__(self, seed=None):\n",
    "        pass\n",
    "\n",
    "    def impute(self, X):\n",
    "        np.random.seed(1)  # Set random seed for reproducibility\n",
    "        random_data = np.random.rand(X.shape[0],X.shape[1])\n",
    "        mask = np.isnan(X)\n",
    "\n",
    "        #np.isnan(np.array([np.nan, 0], dtype=np.float64))\n",
    "        imputed_data= np.nan_to_num(X, nan=0)+ mask*random_data\n",
    "        #imputed_data = .fillna(0)\n",
    "        \n",
    "\n",
    "        return imputed_data"
   ]
  },
  {
   "cell_type": "code",
   "execution_count": null,
   "metadata": {},
   "outputs": [],
   "source": [
    "def baseline_imp(missingtypelist,datalist_name,seed = 1,nfold = 5,model_name =\"mean\"):\n",
    "\n",
    "\n",
    "    if datalist_name == \"real\":\n",
    "        datalist = real_datalist\n",
    "\n",
    "\n",
    "    for missingtype in missingtypelist:\n",
    "        if missingtype == \"logistic\":\n",
    "            missing_rule = load_json_file(\"missing_rate.json\")\n",
    "        elif missingtype == \"diffuse\":\n",
    "            missing_rule = load_json_file(\"diffuse_ratio.json\")\n",
    "        elif missingtype == \"quantile\":\n",
    "            missing_rule = load_json_file(\"quantile_full.json\")\n",
    "        elif missingtype == \"mcar\" or missingtype == \"mar\":\n",
    "            missing_rule = load_json_file(\"mcar.json\")\n",
    "\n",
    "\n",
    "        for dataname in datalist:\n",
    "            path = f\"../impute/{missingtype}/{dataname}/{model_name}\"\n",
    "            if not os.path.exists(path):\n",
    "                # If the path does not exist, create it\n",
    "                os.makedirs(path)\n",
    "\n",
    "            for rule_name in missing_rule:\n",
    "\n",
    "                    directory_path = f\"../datasets/{dataname}\"  \n",
    "                    # Opening JSON file\n",
    "                    f = open(f'{directory_path}/split_index_cv_seed-{seed}_nfold-{nfold}.json')\n",
    "                    index_file = json.load(f)\n",
    "\n",
    "                    for fold in index_file:\n",
    "\n",
    "                        train_values,train_masks,test_values,test_masks = load_train_test(index_file[fold],missingtype,rule_name,directory_path,dataname)\n",
    "\n",
    "                        train_values_na = np.where(train_masks == 0, np.nan, train_values)\n",
    "                        test_values_na = np.where(test_masks == 0, np.nan, test_values)\n",
    "                        \n",
    "                        if model_name ==\"mean\":\n",
    "                            imp_mean = SimpleImputer(missing_values=np.nan, strategy='mean')\n",
    "                            imp_mean.fit(train_values_na)\n",
    "                            test_imp = imp_mean.transform(test_values_na)\n",
    "                            train_imp = imp_mean.transform(train_values_na)\n",
    "                        elif model_name == \"zero\":\n",
    "                            imp_mean = SimpleImputer(missing_values=np.nan, strategy='constant',fill_value= 0)\n",
    "                            imp_mean.fit(train_values_na)\n",
    "                            test_imp = imp_mean.transform(test_values_na)\n",
    "                            train_imp = imp_mean.transform(train_values_na)\n",
    "                        elif model_name == \"random\":\n",
    "                            imputer = RandomImputer(seed=seed)\n",
    "                            test_imp = imputer.impute(test_values_na)\n",
    "                            train_imp = imputer.impute(train_values_na)\n",
    "                            \n",
    "\n",
    "\n",
    "\n",
    "                        np.save(f'{path}/{rule_name}_seed-{seed}_{fold}_train.npy', train_imp.astype(\"float32\"))\n",
    "                        np.save(f'{path}/{rule_name}_seed-{seed}_{fold}_test.npy', test_imp.astype(\"float32\"))\n",
    "\n",
    "\n",
    "            "
   ]
  },
  {
   "cell_type": "code",
   "execution_count": null,
   "metadata": {},
   "outputs": [],
   "source": [
    "real_datalist = [\n",
    "            \"banknote\",\n",
    "             \"concrete_compression\",\n",
    "             \"wine_quality_white\",\n",
    "            \"wine_quality_red\",\n",
    "            \"california\",\n",
    "            \"climate_model_crashes\",\n",
    "            \"connectionist_bench_sonar\",\n",
    "            \"qsar_biodegradation\", \n",
    "            \"yeast\", \n",
    "            \"yacht_hydrodynamics\"\n",
    "            ]\n",
    "missingtypelist = [\"quantile\",\n",
    "                   \"diffuse\",\n",
    "                   \"logistic\",\"mcar\",\"mar\"]\n",
    "\n",
    "\n",
    "baseline_imp(missingtypelist,\"real\")\n",
    "baseline_imp(missingtypelist,\"real\",model_name=\"zero\")\n",
    "baseline_imp(missingtypelist,\"real\",model_name=\"random\")"
   ]
  },
  {
   "cell_type": "code",
   "execution_count": null,
   "metadata": {},
   "outputs": [],
   "source": [
    "\n"
   ]
  }
 ],
 "metadata": {
  "kernelspec": {
   "display_name": "py3.10",
   "language": "python",
   "name": "python3"
  },
  "language_info": {
   "codemirror_mode": {
    "name": "ipython",
    "version": 3
   },
   "file_extension": ".py",
   "mimetype": "text/x-python",
   "name": "python",
   "nbconvert_exporter": "python",
   "pygments_lexer": "ipython3",
   "version": "3.10.13"
  }
 },
 "nbformat": 4,
 "nbformat_minor": 2
}
